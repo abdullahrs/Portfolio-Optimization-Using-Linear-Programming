{
 "cells": [
  {
   "cell_type": "code",
   "execution_count": 192,
   "metadata": {},
   "outputs": [],
   "source": [
    "import pandas as pd\n",
    "import numpy as np\n",
    "import yfinance as yf\n",
    "import cvxpy as cp\n",
    "\n",
    "\n",
    "import seaborn as sns\n",
    "import matplotlib.pyplot as plt\n",
    "\n",
    "from datetime import datetime, timedelta"
   ]
  },
  {
   "cell_type": "code",
   "execution_count": 193,
   "metadata": {},
   "outputs": [],
   "source": [
    "# Current date\n",
    "end_date = datetime.now()\n",
    "\n",
    "# Start date set to 15 years before the end date\n",
    "start_date = end_date - timedelta(days=365*15)  # Approximating 365 days per year\n",
    "\n",
    "# Defining portfolio components \n",
    "portfolio_items = {'BIST100': 'XU100.IS', 'Gold': 'GC=F', 'Silver': 'SI=F', 'USDTRY': 'USDTRY=X'}"
   ]
  },
  {
   "cell_type": "code",
   "execution_count": 194,
   "metadata": {},
   "outputs": [],
   "source": [
    "def get_historical_data(portfolio_item: str, start_date: datetime, end_date: datetime):\n",
    "    \"\"\"\n",
    "    Fetches historical market data from Yahoo Finance.\n",
    "    \"\"\"\n",
    "    data = yf.download(portfolio_item, start=start_date, end=end_date)\n",
    "    return data['Adj Close']"
   ]
  },
  {
   "cell_type": "code",
   "execution_count": 195,
   "metadata": {},
   "outputs": [],
   "source": [
    "def calculate_annualized_returns(data):\n",
    "    \"\"\"\n",
    "    Calculates annualized logarithmic returns from daily prices.\n",
    "    \"\"\"\n",
    "    daily_returns = np.log(data / data.shift(1))\n",
    "    annualized_returns = daily_returns.mean() * 252  # 252 trading days in a year\n",
    "    return annualized_returns"
   ]
  },
  {
   "cell_type": "code",
   "execution_count": 196,
   "metadata": {},
   "outputs": [],
   "source": [
    "def calculate_annualized_log_returns(dataframe, date_col, value_col, optional_date_format : bool = False):\n",
    "    \"\"\"\n",
    "    Used for house price index and interest rate instruments\n",
    "    Calculate the annualized logarithmic returns from a time series data.\n",
    "    Args:\n",
    "    dataframe (pd.DataFrame): DataFrame containing the data.\n",
    "    date_col (str): Column name for dates.\n",
    "    value_col (str): Column name for values (e.g., HPI or asset prices).\n",
    "    optional_date_format (bool): Variable for format warnings.\n",
    "    \n",
    "    Returns:\n",
    "    float: Annualized logarithmic return.\n",
    "    \"\"\"\n",
    "    # Convert date column to datetime and ensure data is sorted\n",
    "    dataframe[date_col] = pd.to_datetime(dataframe[date_col], format= '%Y-%m' if optional_date_format else None)\n",
    "    dataframe.sort_values(by=date_col, inplace=True)\n",
    "\n",
    "    # Convert the value column to float to avoid type issues\n",
    "    dataframe[value_col] = pd.to_numeric(dataframe[value_col], errors='coerce')\n",
    "\n",
    "    # Drop rows with NaN values that might disrupt calculations\n",
    "    dataframe.dropna(subset=[value_col], inplace=True)\n",
    "\n",
    "    # Calculate logarithmic returns\n",
    "    dataframe['log_returns'] = np.log(dataframe[value_col] / dataframe[value_col].shift(1))\n",
    "\n",
    "    # Calculate annualized return (assuming the data is monthly, multiply by 12)\n",
    "    annualized_return = dataframe['log_returns'].mean() * 12\n",
    "    return annualized_return"
   ]
  },
  {
   "cell_type": "code",
   "execution_count": 197,
   "metadata": {},
   "outputs": [],
   "source": [
    "def load_and_prepare_interest_data(dataset: pd.DataFrame):\n",
    "    \"\"\"\n",
    "    Load and prepare interest data from a transposed Excel file.\n",
    "    Args:\n",
    "    filepath (str): Path to the Excel file.\n",
    "    \n",
    "    Returns:\n",
    "    pd.DataFrame: Prepared DataFrame with 'Date' as a column.\n",
    "    \"\"\"\n",
    "    # Load data, transpose and reset index to make the index a column\n",
    "    df = dataset.copy().T\n",
    "    df.reset_index(inplace=True)\n",
    "    df.columns = df.iloc[0]  # Set the first row as column header\n",
    "    df = df[1:]  # Remove the first row after setting headers\n",
    "    df.rename(columns={'Unnamed: 0': 'Date'}, inplace=True)  # Rename the date column\n",
    "    # df.set_index('Date', inplace=True)\n",
    "    return df"
   ]
  },
  {
   "cell_type": "code",
   "execution_count": 198,
   "metadata": {},
   "outputs": [
    {
     "name": "stderr",
     "output_type": "stream",
     "text": [
      "[*********************100%%**********************]  1 of 1 completed\n",
      "[*********************100%%**********************]  1 of 1 completed\n",
      "[*********************100%%**********************]  1 of 1 completed\n",
      "[*********************100%%**********************]  1 of 1 completed\n"
     ]
    }
   ],
   "source": [
    "# Fetch data\n",
    "prices = {asset: get_historical_data(item, start_date, end_date) for asset, item in portfolio_items.items()}\n",
    "# Load House Price Index\n",
    "hpi_df = pd.read_excel('../data/konut-fiyat-endeks.xlsx')\n",
    "interest_df = pd.read_excel('../data/tcmb-faiz.xlsx')\n",
    "interest_df = load_and_prepare_interest_data(interest_df)\n",
    "annualized_hpi_return = calculate_annualized_log_returns(hpi_df, 'Tarih', 'TP HKFE01')\n",
    "annualized_interest_return = calculate_annualized_log_returns(interest_df, 'Date', '1 Yıla Kadar Vadeli (TL)(%)', optional_date_format=True)\n",
    "\n",
    "# print(annualized_hpi_return)\n",
    "# print(annualized_interest_return)"
   ]
  },
  {
   "cell_type": "code",
   "execution_count": 199,
   "metadata": {},
   "outputs": [
    {
     "data": {
      "text/plain": [
       "Date\n",
       "2009-05-04    32170.699219\n",
       "2009-05-05    33014.199219\n",
       "2009-05-06    33716.898438\n",
       "2009-05-07    32842.601562\n",
       "2009-05-08    32805.699219\n",
       "                  ...     \n",
       "2024-04-24     9722.099609\n",
       "2024-04-25     9716.799805\n",
       "2024-04-26     9915.599609\n",
       "2024-04-29    10082.799805\n",
       "2024-04-30    10113.919922\n",
       "Name: Adj Close, Length: 3760, dtype: float64"
      ]
     },
     "execution_count": 199,
     "metadata": {},
     "output_type": "execute_result"
    }
   ],
   "source": [
    "# Convert Gold and Silver prices to TRY\n",
    "prices['Gold'] = prices['Gold'] * prices['USDTRY']\n",
    "prices['Silver'] = prices['Silver'] * prices['USDTRY']\n",
    "prices['BIST100_USD'] = prices['BIST100'] / prices['USDTRY']\n",
    "# The BIST 100 index underwent a significant recalibration on August 1, 2015. \n",
    "# This recalibration included updating how the index values were calculated \n",
    "# and possibly adjusting for market changes or sectoral shifts within the index. \n",
    "# e.g. 2009-05-04    32170.699219 / 2024-04-30    10099.299805\n",
    "# Therefore, it will be better to make USD-based calculations\n",
    "prices.pop('BIST100')"
   ]
  },
  {
   "cell_type": "code",
   "execution_count": 200,
   "metadata": {},
   "outputs": [
    {
     "name": "stdout",
     "output_type": "stream",
     "text": [
      "Annualized return for Gold: 0.2721\n",
      "Annualized return for Silver: 0.2533\n",
      "Annualized return for USDTRY: 0.1958\n",
      "Annualized return for BIST100_USD: -0.2883\n",
      "Annualized return for HPI: 0.2536\n",
      "Annualized return for Interest: 0.1244\n"
     ]
    }
   ],
   "source": [
    "# Calculate annualized returns for each asset\n",
    "returns = {asset: calculate_annualized_returns(data) for asset, data in prices.items()}\n",
    "returns['HPI'] = annualized_hpi_return\n",
    "returns['Interest'] = annualized_interest_return\n",
    "# Output the results\n",
    "for asset, return_value in returns.items():\n",
    "    print(f\"Annualized return for {asset}: {return_value:.4f}\")"
   ]
  },
  {
   "cell_type": "code",
   "execution_count": 201,
   "metadata": {},
   "outputs": [],
   "source": [
    "def solve(ri_values: list[float]):\n",
    "    # Define the decision variables for asset allocations\n",
    "    x = cp.Variable(len(ri_values))\n",
    "    \n",
    "    # Define binary variables to handle the presence of investments\n",
    "    y = cp.Variable(len(ri_values), boolean=True)  # Using boolean constraints for binary nature\n",
    "    \n",
    "    # Define the constraints\n",
    "    constraints = [\n",
    "        cp.sum(x) == 1,  # Total investment equals 100% of the budget\n",
    "        x >= 0.15 * y,   # Link investment amounts to binary variables\n",
    "        x <= 0.40 * y,   # Maximum investment constraint also linked to binary variables\n",
    "        cp.sum(y) >= 3   # At least three different assets must be included\n",
    "    ]\n",
    "\n",
    "    # Define the objective function to maximize returns\n",
    "    objective = cp.Maximize(ri_values @ x)\n",
    "\n",
    "    # Define the problem and solve\n",
    "    prob = cp.Problem(objective, constraints)\n",
    "    result = prob.solve()\n",
    "\n",
    "    # Output the optimal asset allocations\n",
    "    if prob.status not in [\"infeasible\", \"unbounded\"]:\n",
    "        # If the problem is feasible and bounded\n",
    "        print(\"Optimal asset allocations:\", x.value)\n",
    "        print(\"Investment decisions (binary):\", y.value)\n",
    "        print(\"Maximum Expected Return:\", result)\n",
    "    else:\n",
    "        # If the problem is infeasible or unbounded\n",
    "        print(\"Problem status:\", prob.status)\n",
    "    return result\n",
    "        "
   ]
  },
  {
   "cell_type": "code",
   "execution_count": 202,
   "metadata": {},
   "outputs": [
    {
     "name": "stdout",
     "output_type": "stream",
     "text": [
      "dict_keys(['Gold', 'Silver', 'USDTRY', 'BIST100_USD', 'HPI', 'Interest'])\n",
      "Optimal asset allocations: [0.4 0.2 0.  0.  0.4 0. ]\n",
      "Investment decisions (binary): [ 1.  1. -0.  0.  1. -0.]\n",
      "Maximum Expected Return: 0.2609274532390257\n"
     ]
    }
   ],
   "source": [
    "assets = returns.keys()\n",
    "print(assets)\n",
    "annual_return_rate = solve(list(returns.values()))"
   ]
  },
  {
   "cell_type": "code",
   "execution_count": 203,
   "metadata": {},
   "outputs": [
    {
     "name": "stdout",
     "output_type": "stream",
     "text": [
      "1891.3911798585386\n"
     ]
    }
   ],
   "source": [
    "initial_investment = 100\n",
    "years = 15\n",
    "total_return = initial_investment * (1 + annual_return_rate)*years\n",
    "\n",
    "print(total_return)"
   ]
  },
  {
   "cell_type": "code",
   "execution_count": 205,
   "metadata": {},
   "outputs": [
    {
     "data": {
      "text/plain": [
       "dict_keys(['Gold', 'Silver', 'USDTRY', 'BIST100_USD'])"
      ]
     },
     "execution_count": 205,
     "metadata": {},
     "output_type": "execute_result"
    }
   ],
   "source": [
    "prices.keys()"
   ]
  }
 ],
 "metadata": {
  "kernelspec": {
   "display_name": "Python 3",
   "language": "python",
   "name": "python3"
  },
  "language_info": {
   "codemirror_mode": {
    "name": "ipython",
    "version": 3
   },
   "file_extension": ".py",
   "mimetype": "text/x-python",
   "name": "python",
   "nbconvert_exporter": "python",
   "pygments_lexer": "ipython3",
   "version": "3.12.1"
  }
 },
 "nbformat": 4,
 "nbformat_minor": 2
}
